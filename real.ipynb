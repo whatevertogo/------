{
 "cells": [
  {
   "cell_type": "code",
   "execution_count": 2,
   "id": "a6501596",
   "metadata": {},
   "outputs": [
    {
     "name": "stdout",
     "output_type": "stream",
     "text": [
      "使用 GPU: NVIDIA GeForce RTX 4050 Laptop GPU\n",
      "CUDA 是否可用: True\n",
      "当前 PyTorch 版本: 2.6.0+cu118\n",
      "CUDA 版本: 11.8\n"
     ]
    }
   ],
   "source": [
    "from sentence_transformers import SentenceTransformer, util\n",
    "import pandas as pd\n",
    "import torch\n",
    "import csv\n",
    "import numpy as np\n",
    "from sklearn.metrics import f1_score, recall_score, accuracy_score\n",
    "\n",
    "# 检测GPU\n",
    "if torch.cuda.is_available():\n",
    "    device = torch.device('cuda')\n",
    "    print(f'使用 GPU: {torch.cuda.get_device_name(0)}')\n",
    "else:\n",
    "    device = torch.device('cpu')\n",
    "    print('未检测到 GPU，使用 CPU')\n",
    "\n",
    "# 加载专为中文优化的句向量模型\n",
    "model = SentenceTransformer('shibing624/text2vec-base-chinese')\n",
    "model = model.to(device)\n",
    "\n",
    "print(\"CUDA 是否可用:\", torch.cuda.is_available())\n",
    "print(\"当前 PyTorch 版本:\", torch.__version__)\n",
    "print(\"CUDA 版本:\", torch.version.cuda if torch.cuda.is_available() else \"无\")"
   ]
  },
  {
   "cell_type": "markdown",
   "id": "9fdad194",
   "metadata": {},
   "source": [
    "## 读取训练集并做基础统计"
   ]
  },
  {
   "cell_type": "code",
   "execution_count": 3,
   "id": "b47d19b5",
   "metadata": {},
   "outputs": [
    {
     "name": "stdout",
     "output_type": "stream",
     "text": [
      "数据集样本数: 4401\n",
      "正负样本分布:\n",
      "label\n",
      "1    2237\n",
      "0    2164\n",
      "Name: count, dtype: int64\n"
     ]
    },
    {
     "data": {
      "application/vnd.microsoft.datawrangler.viewer.v0+json": {
       "columns": [
        {
         "name": "index",
         "rawType": "int64",
         "type": "integer"
        },
        {
         "name": "q1",
         "rawType": "object",
         "type": "string"
        },
        {
         "name": "q2",
         "rawType": "object",
         "type": "string"
        },
        {
         "name": "label",
         "rawType": "int64",
         "type": "integer"
        }
       ],
       "ref": "665fac21-1ff8-4738-b03d-2da3d63612e4",
       "rows": [
        [
         "0",
         "跪求,英雄联盟好玩还是梦三国好玩?坐等呢",
         "亲说下,英雄联盟好玩还是梦三国好玩?十分多谢",
         "1"
        ],
        [
         "1",
         "英雄联盟统治战场一天可以得多少经验",
         "英雄联盟打统治战场会增加隐藏分吗",
         "0"
        ],
        [
         "2",
         "那里有免费的单机游戏下载",
         "哪里有免费的单机游戏下载",
         "1"
        ],
        [
         "3",
         "平安夜的时候送女朋友什么礼物好呢？",
         "今年的平安夜快要到了，送女朋友什么礼物好呢？",
         "1"
        ],
        [
         "4",
         "游戏王游戏在哪下载？",
         "游戏王游戏在哪里下载",
         "1"
        ],
        [
         "5",
         "龙飞凤舞不一般的生肖是什么？",
         "龙飞凤舞是什么生肖？",
         "0"
        ],
        [
         "6",
         "女生不喜欢肌肉男吗？",
         "女生都喜欢肌肉男吗？",
         "0"
        ],
        [
         "7",
         "繁体字赛，宝贝怎么写",
         "偶的宝贝繁体字怎么写啊",
         "0"
        ],
        [
         "8",
         "这手机怎么样，好不好用啊。",
         "充电宝怎么样才算充满",
         "0"
        ],
        [
         "9",
         "魔兽世界燃铁矿哪里多",
         "魔兽世界-魔铁矿石哪里多",
         "0"
        ]
       ],
       "shape": {
        "columns": 3,
        "rows": 10
       }
      },
      "text/html": [
       "<div>\n",
       "<style scoped>\n",
       "    .dataframe tbody tr th:only-of-type {\n",
       "        vertical-align: middle;\n",
       "    }\n",
       "\n",
       "    .dataframe tbody tr th {\n",
       "        vertical-align: top;\n",
       "    }\n",
       "\n",
       "    .dataframe thead th {\n",
       "        text-align: right;\n",
       "    }\n",
       "</style>\n",
       "<table border=\"1\" class=\"dataframe\">\n",
       "  <thead>\n",
       "    <tr style=\"text-align: right;\">\n",
       "      <th></th>\n",
       "      <th>q1</th>\n",
       "      <th>q2</th>\n",
       "      <th>label</th>\n",
       "    </tr>\n",
       "  </thead>\n",
       "  <tbody>\n",
       "    <tr>\n",
       "      <th>0</th>\n",
       "      <td>跪求,英雄联盟好玩还是梦三国好玩?坐等呢</td>\n",
       "      <td>亲说下,英雄联盟好玩还是梦三国好玩?十分多谢</td>\n",
       "      <td>1</td>\n",
       "    </tr>\n",
       "    <tr>\n",
       "      <th>1</th>\n",
       "      <td>英雄联盟统治战场一天可以得多少经验</td>\n",
       "      <td>英雄联盟打统治战场会增加隐藏分吗</td>\n",
       "      <td>0</td>\n",
       "    </tr>\n",
       "    <tr>\n",
       "      <th>2</th>\n",
       "      <td>那里有免费的单机游戏下载</td>\n",
       "      <td>哪里有免费的单机游戏下载</td>\n",
       "      <td>1</td>\n",
       "    </tr>\n",
       "    <tr>\n",
       "      <th>3</th>\n",
       "      <td>平安夜的时候送女朋友什么礼物好呢？</td>\n",
       "      <td>今年的平安夜快要到了，送女朋友什么礼物好呢？</td>\n",
       "      <td>1</td>\n",
       "    </tr>\n",
       "    <tr>\n",
       "      <th>4</th>\n",
       "      <td>游戏王游戏在哪下载？</td>\n",
       "      <td>游戏王游戏在哪里下载</td>\n",
       "      <td>1</td>\n",
       "    </tr>\n",
       "    <tr>\n",
       "      <th>5</th>\n",
       "      <td>龙飞凤舞不一般的生肖是什么？</td>\n",
       "      <td>龙飞凤舞是什么生肖？</td>\n",
       "      <td>0</td>\n",
       "    </tr>\n",
       "    <tr>\n",
       "      <th>6</th>\n",
       "      <td>女生不喜欢肌肉男吗？</td>\n",
       "      <td>女生都喜欢肌肉男吗？</td>\n",
       "      <td>0</td>\n",
       "    </tr>\n",
       "    <tr>\n",
       "      <th>7</th>\n",
       "      <td>繁体字赛，宝贝怎么写</td>\n",
       "      <td>偶的宝贝繁体字怎么写啊</td>\n",
       "      <td>0</td>\n",
       "    </tr>\n",
       "    <tr>\n",
       "      <th>8</th>\n",
       "      <td>这手机怎么样，好不好用啊。</td>\n",
       "      <td>充电宝怎么样才算充满</td>\n",
       "      <td>0</td>\n",
       "    </tr>\n",
       "    <tr>\n",
       "      <th>9</th>\n",
       "      <td>魔兽世界燃铁矿哪里多</td>\n",
       "      <td>魔兽世界-魔铁矿石哪里多</td>\n",
       "      <td>0</td>\n",
       "    </tr>\n",
       "  </tbody>\n",
       "</table>\n",
       "</div>"
      ],
      "text/plain": [
       "                     q1                      q2  label\n",
       "0  跪求,英雄联盟好玩还是梦三国好玩?坐等呢  亲说下,英雄联盟好玩还是梦三国好玩?十分多谢      1\n",
       "1     英雄联盟统治战场一天可以得多少经验        英雄联盟打统治战场会增加隐藏分吗      0\n",
       "2          那里有免费的单机游戏下载            哪里有免费的单机游戏下载      1\n",
       "3     平安夜的时候送女朋友什么礼物好呢？  今年的平安夜快要到了，送女朋友什么礼物好呢？      1\n",
       "4            游戏王游戏在哪下载？              游戏王游戏在哪里下载      1\n",
       "5        龙飞凤舞不一般的生肖是什么？              龙飞凤舞是什么生肖？      0\n",
       "6            女生不喜欢肌肉男吗？              女生都喜欢肌肉男吗？      0\n",
       "7            繁体字赛，宝贝怎么写             偶的宝贝繁体字怎么写啊      0\n",
       "8         这手机怎么样，好不好用啊。              充电宝怎么样才算充满      0\n",
       "9            魔兽世界燃铁矿哪里多            魔兽世界-魔铁矿石哪里多      0"
      ]
     },
     "execution_count": 3,
     "metadata": {},
     "output_type": "execute_result"
    }
   ],
   "source": [
    "import pandas as pd\n",
    "train_df = pd.read_csv('csv/test.csv', sep='\\t', header=None, names=['q1', 'q2', 'label'])\n",
    "print('数据集样本数:', len(train_df))\n",
    "print('正负样本分布:')\n",
    "print(train_df['label'].value_counts())\n",
    "train_df.head(10)"
   ]
  },
  {
   "cell_type": "markdown",
   "id": "a181c88f",
   "metadata": {},
   "source": [
    "## - 相似度分布可视化"
   ]
  },
  {
   "cell_type": "markdown",
   "id": "747d7b28",
   "metadata": {},
   "source": [
    "## 高效批量推理：大幅加速相似度计算\n",
    "将所有问题对批量编码，利用向量化操作一次性计算余弦相似度，大幅提升推理速度，适合大数据量场景。"
   ]
  },
  {
   "cell_type": "code",
   "execution_count": 9,
   "id": "5a741282",
   "metadata": {},
   "outputs": [],
   "source": [
    "## 避免显存溢出：分批计算余弦相似度\n",
    "#一次性计算全部对角线会导致显存溢出。可以分批处理（如每1万对），每批计算后拼接结果，显著降低显存占用。"
   ]
  },
  {
   "cell_type": "code",
   "execution_count": 4,
   "id": "3921f048",
   "metadata": {},
   "outputs": [
    {
     "data": {
      "application/vnd.jupyter.widget-view+json": {
       "model_id": "b0dde4579ca2479b9debced643b4ec3f",
       "version_major": 2,
       "version_minor": 0
      },
      "text/plain": [
       "Batches:   0%|          | 0/35 [00:00<?, ?it/s]"
      ]
     },
     "metadata": {},
     "output_type": "display_data"
    },
    {
     "data": {
      "application/vnd.jupyter.widget-view+json": {
       "model_id": "8a8d9ab4c41f4ec98c7503470f72266a",
       "version_major": 2,
       "version_minor": 0
      },
      "text/plain": [
       "Batches:   0%|          | 0/35 [00:00<?, ?it/s]"
      ]
     },
     "metadata": {},
     "output_type": "display_data"
    },
    {
     "name": "stdout",
     "output_type": "stream",
     "text": [
      "训练集 Accuracy: 0.7885\n",
      "训练集 F1-score: 0.8181\n",
      "训练集 Recall: 0.9361\n",
      "加权最终得分: 0.8358\n"
     ]
    }
   ],
   "source": [
    "# 批量编码所有问题对\n",
    "q1_list = train_df['q1'].tolist()\n",
    "q2_list = train_df['q2'].tolist()\n",
    "\n",
    "# 批量编码（可指定 batch_size，适当调大可加速）\n",
    "q1_emb = model.encode(q1_list, convert_to_tensor=True, batch_size=128, show_progress_bar=True)\n",
    "q2_emb = model.encode(q2_list, convert_to_tensor=True, batch_size=128, show_progress_bar=True)\n",
    "\n",
    "# 分批计算对角线相似度\n",
    "batch_size = 8000\n",
    "sims = []\n",
    "for start in range(0, len(q1_list), batch_size):\n",
    "    end = min(start + batch_size, len(q1_list))\n",
    "    emb1 = q1_emb[start:end]\n",
    "    emb2 = q2_emb[start:end]\n",
    "    sim = util.cos_sim(emb1, emb2).diagonal().cpu().numpy()\n",
    "    sims.append(sim)\n",
    "sims = np.concatenate(sims)\n",
    "\n",
    "# 设定阈值，批量判断\n",
    "threshold = 0.84\n",
    "train_df['pred'] = (sims > threshold).astype(int)\n",
    "\n",
    "# 计算指标\n",
    "accuracy = accuracy_score(train_df['label'], train_df['pred'])\n",
    "f1 = f1_score(train_df['label'], train_df['pred'])\n",
    "recall = recall_score(train_df['label'], train_df['pred'])\n",
    "print(f'训练集 Accuracy: {accuracy:.4f}')\n",
    "print(f'训练集 F1-score: {f1:.4f}')\n",
    "print(f'训练集 Recall: {recall:.4f}')\n",
    "final_score = 0.6 * f1 + 0.2 * accuracy + 0.2 * recall\n",
    "print(f'加权最终得分: {final_score:.4f}')"
   ]
  },
  {
   "cell_type": "markdown",
   "id": "2614be32",
   "metadata": {},
   "source": [
    "# 错误样本分析\n",
    "分析模型预测错误的前10个样本，便于人工检查模型常见误判类型和后续优化方向。"
   ]
  },
  {
   "cell_type": "code",
   "execution_count": 21,
   "id": "66a12024",
   "metadata": {},
   "outputs": [
    {
     "name": "stdout",
     "output_type": "stream",
     "text": [
      "                                q1                               q2  label  \\\n",
      "5                   龙飞凤舞不一般的生肖是什么？                       龙飞凤舞是什么生肖？      0   \n",
      "6                       女生不喜欢肌肉男吗？                       女生都喜欢肌肉男吗？      0   \n",
      "9                       魔兽世界燃铁矿哪里多                     魔兽世界-魔铁矿石哪里多      0   \n",
      "11                   杭州今年这个冬天会下雪吗？                      今天杭州真的下雪了吗？      0   \n",
      "12                      家电什么时候买便宜？                    什么时候买家具家电最实惠？      1   \n",
      "35                      这张图出自哪个漫画？                       这张图出自什么动漫？      0   \n",
      "36                     可以在网上找女朋友吗！                       我们在网上找女朋友吗      0   \n",
      "47                     刚插入时女人是什么感觉                       被男人进入是什么感觉      1   \n",
      "50  您好，请问您的这个新手机号是什么时间购买的呢？比如几几年几月  请问您还得这个手机号是什么购买的吗？具体到月份的时间还记得么？      1   \n",
      "53                         用香皂洗脸好吗                         香皂能用来洗脸吗      0   \n",
      "\n",
      "    pred  \n",
      "5      1  \n",
      "6      1  \n",
      "9      1  \n",
      "11     1  \n",
      "12     0  \n",
      "35     1  \n",
      "36     1  \n",
      "47     0  \n",
      "50     0  \n",
      "53     1  \n",
      "错误类型分布：\n",
      "label\n",
      "0    788\n",
      "1    143\n",
      "Name: count, dtype: int64\n",
      "负例被误判为正例（假阳性）: 788\n",
      "正例被误判为负例（假阴性）: 143\n"
     ]
    }
   ],
   "source": [
    "\n",
    "# 如果 'pred' 不存在，提醒用户先运行推理代码\n",
    "if \"pred\" not in train_df.columns:\n",
    "    print(\"请先运行模型推理代码，生成 train_df['pred'] 列！\")\n",
    "else:\n",
    "    # 找出预测错误的样本\n",
    "    wrong = train_df[train_df[\"pred\"] != train_df[\"label\"]]\n",
    "    # 展示前10条错误样本\n",
    "    print(wrong[[\"q1\", \"q2\", \"label\", \"pred\"]].head(10))\n",
    "    # 统计错误类型分布\n",
    "    print(\"错误类型分布：\")\n",
    "    print(wrong[\"label\"].value_counts())\n",
    "    # 统计正例被误判为负例、负例被误判为正例的数量\n",
    "    fp = ((wrong[\"label\"] == 0) & (wrong[\"pred\"] == 1)).sum()\n",
    "    fn = ((wrong[\"label\"] == 1) & (wrong[\"pred\"] == 0)).sum()\n",
    "    print(f\"负例被误判为正例（假阳性）: {fp}\")\n",
    "    print(f\"正例被误判为负例（假阴性）: {fn}\")"
   ]
  },
  {
   "cell_type": "code",
   "execution_count": 6,
   "id": "674cfec7",
   "metadata": {},
   "outputs": [
    {
     "name": "stdout",
     "output_type": "stream",
     "text": [
      "相似度最高的负例被误判为正例样本：\n",
      "                 q1              q2  label  pred  similarity\n",
      "910     为什么我左脸比右脸大?     为什么我右脸比左脸大?      0     1    0.992651\n",
      "1957      对女生表白唱什么歌        女生表白唱什么歌      0     1    0.985824\n",
      "2283  湛江到广州高铁什么时候开通  广州到湛江的高铁什么时候开通      0     1    0.983393\n",
      "4021  男生说女生可爱是什么意思？  女生说男生可爱是什么意思啊？      0     1    0.980977\n",
      "2818     天龙八部逍遥怎么加点     新天龙八部逍遥怎么加点      0     1    0.979994\n",
      "1974       千钧一发什么意思       千钧一发均什么意思      0     1    0.977643\n",
      "4210   浅绿色裤子配什么颜色鞋子  浅绿色的鞋子配什么颜色的裤子      0     1    0.976655\n",
      "3382    女人喜欢男人什么部位？     男人喜欢女人什么部位？      0     1    0.975251\n",
      "1825    男人喜欢戴眼镜的女人吗    女人喜欢戴眼镜的男人吗？      0     1    0.975098\n",
      "3335       女人吃什么药补血         女人吃什么补血      0     1    0.974906\n"
     ]
    },
    {
     "name": "stderr",
     "output_type": "stream",
     "text": [
      "C:\\Users\\18794\\AppData\\Local\\Temp\\ipykernel_19516\\3953476473.py:5: SettingWithCopyWarning: \n",
      "A value is trying to be set on a copy of a slice from a DataFrame.\n",
      "Try using .loc[row_indexer,col_indexer] = value instead\n",
      "\n",
      "See the caveats in the documentation: https://pandas.pydata.org/pandas-docs/stable/user_guide/indexing.html#returning-a-view-versus-a-copy\n",
      "  wrong_neg['similarity'] = wrong_neg.apply(\n"
     ]
    }
   ],
   "source": [
    "# 筛选负例被误判为正例的样本\n",
    "wrong_neg = wrong[wrong['label'] == 0]\n",
    "\n",
    "# 计算这些样本的文本相似度\n",
    "wrong_neg['similarity'] = wrong_neg.apply(\n",
    "    lambda row: util.cos_sim(\n",
    "        model.encode(row['q1'], convert_to_tensor=True),\n",
    "        model.encode(row['q2'], convert_to_tensor=True)\n",
    "    ).item(), axis=1\n",
    ")\n",
    "\n",
    "# 按相似度降序排序\n",
    "wrong_neg_sorted = wrong_neg.sort_values(by='similarity', ascending=False)\n",
    "\n",
    "# 展示相似度最高的前10个样本\n",
    "print(\"相似度最高的负例被误判为正例样本：\")\n",
    "print(wrong_neg_sorted[[\"q1\", \"q2\", \"label\", \"pred\", \"similarity\"]].head(10))"
   ]
  },
  {
   "cell_type": "markdown",
   "id": "90ba9132",
   "metadata": {},
   "source": [
    "## 替换 HanLP 依存句法分析为 LTP，并实现主谓宾结构对比辅助二次筛选\n",
    "本节将使用 LTP 进行依存句法分析，抽取主谓宾三元组，并对比两句主谓宾结构，辅助判断模型误判的负例是否可二次筛选为正例。"
   ]
  },
  {
   "cell_type": "code",
   "execution_count": null,
   "id": "5e84ef0a",
   "metadata": {},
   "outputs": [],
   "source": [
    "# 自动安装 ltp（如未安装）\n",
    "try:\n",
    "    from ltp import LTP\n",
    "except ImportError:\n",
    "    import sys\n",
    "    !{sys.executable} -m pip install ltp\n",
    "    from ltp import LTP\n",
    "\n",
    "ltp = LTP()\n",
    "\n",
    "def extract_svo(seg, dep):\n",
    "    \"\"\"\n",
    "    抽取主谓宾三元组\n",
    "    seg: 分词结果\n",
    "    dep: 依存句法分析结果\n",
    "    返回：[(主语, 谓语, 宾语), ...]\n",
    "    \"\"\"\n",
    "    svos = []\n",
    "    for i, (word, rel) in enumerate(zip(seg[0], dep[0])):\n",
    "        if rel[1] == 'SBV':  # 主语\n",
    "            verb = seg[0][rel[2]-1]\n",
    "            subject = word\n",
    "            # 查找动词的宾语\n",
    "            for j, (w2, r2) in enumerate(dep[0]):\n",
    "                if r2[1] == 'VOB' and r2[2]-1 == rel[2]-1:\n",
    "                    obj = w2\n",
    "                    svos.append((subject, verb, obj))\n",
    "    return svos\n",
    "\n",
    "def svo_match(svo_a, svo_b):\n",
    "    \"\"\"\n",
    "    判断两个句子的主谓宾三元组是否有重合\n",
    "    \"\"\"\n",
    "    return any(x == y for x in svo_a for y in svo_b)\n",
    "\n",
    "# 示例：对比两句话的主谓宾结构\n",
    "sent1 = \"他昨天在家吃了一个大苹果\"\n",
    "sent2 = \"昨天他在家吃苹果\"\n",
    "\n",
    "seg1, hidden1 = ltp.seg([sent1])\n",
    "dep1 = ltp.dep(hidden1)\n",
    "seg2, hidden2 = ltp.seg([sent2])\n",
    "dep2 = ltp.dep(hidden2)\n",
    "\n",
    "svo1 = extract_svo(seg1, dep1)\n",
    "svo2 = extract_svo(seg2, dep2)\n",
    "print(\"句1主谓宾：\", svo1)\n",
    "print(\"句2主谓宾：\", svo2)\n",
    "print(\"主谓宾结构是否一致：\", svo_match(svo1, svo2))"
   ]
  },
  {
   "cell_type": "code",
   "execution_count": null,
   "id": "9bbb4c8e",
   "metadata": {},
   "outputs": [],
   "source": [
    "# 如果 'pred' 不存在，提醒用户先运行推理代码\n",
    "if \"pred\" not in train_df.columns:\n",
    "    print(\"请先运行模型推理代码，生成 train_df['pred'] 列！\")\n",
    "else:\n",
    "    # 找出预测错误的样本\n",
    "    wrong = train_df[train_df[\"pred\"] != train_df[\"label\"]]\n",
    "    # 展示前10条错误样本\n",
    "    print(wrong[[\"q1\", \"q2\", \"label\", \"pred\"]].head(10))\n",
    "    # 统计错误类型分布\n",
    "    print(\"错误类型分布：\")\n",
    "    print(wrong[\"label\"].value_counts())\n",
    "    # 统计正例被误判为负例、负例被误判为正例的数量\n",
    "    fp = ((wrong[\"label\"] == 0) & (wrong[\"pred\"] == 1)).sum()\n",
    "    fn = ((wrong[\"label\"] == 1) & (wrong[\"pred\"] == 0)).sum()\n",
    "    print(f\"负例被误判为正例（假阳性）: {fp}\")\n",
    "    print(f\"正例被误判为负例（假阴性）: {fn}\")"
   ]
  }
 ],
 "metadata": {
  "kernelspec": {
   "display_name": ".venv",
   "language": "python",
   "name": "python3"
  },
  "language_info": {
   "codemirror_mode": {
    "name": "ipython",
    "version": 3
   },
   "file_extension": ".py",
   "mimetype": "text/x-python",
   "name": "python",
   "nbconvert_exporter": "python",
   "pygments_lexer": "ipython3",
   "version": "3.13.2"
  }
 },
 "nbformat": 4,
 "nbformat_minor": 5
}
