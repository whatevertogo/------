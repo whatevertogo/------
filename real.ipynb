{
 "cells": [
  {
   "cell_type": "code",
   "execution_count": 2,
   "id": "a6501596",
   "metadata": {},
   "outputs": [
    {
     "name": "stdout",
     "output_type": "stream",
     "text": [
      "使用 GPU: NVIDIA GeForce RTX 4050 Laptop GPU\n",
      "CUDA 是否可用: True\n",
      "当前 PyTorch 版本: 2.6.0+cu118\n",
      "CUDA 版本: 11.8\n"
     ]
    }
   ],
   "source": [
    "from sentence_transformers import SentenceTransformer, util\n",
    "import pandas as pd\n",
    "import torch\n",
    "import csv\n",
    "import numpy as np\n",
    "from sklearn.metrics import f1_score, recall_score, accuracy_score\n",
    "\n",
    "# 检测GPU\n",
    "if torch.cuda.is_available():\n",
    "    device = torch.device('cuda')\n",
    "    print(f'使用 GPU: {torch.cuda.get_device_name(0)}')\n",
    "else:\n",
    "    device = torch.device('cpu')\n",
    "    print('未检测到 GPU，使用 CPU')\n",
    "\n",
    "# 加载专为中文优化的句向量模型\n",
    "model = SentenceTransformer('shibing624/text2vec-base-chinese')\n",
    "model = model.to(device)\n",
    "\n",
    "print(\"CUDA 是否可用:\", torch.cuda.is_available())\n",
    "print(\"当前 PyTorch 版本:\", torch.__version__)\n",
    "print(\"CUDA 版本:\", torch.version.cuda if torch.cuda.is_available() else \"无\")"
   ]
  },
  {
   "cell_type": "markdown",
   "id": "9fdad194",
   "metadata": {},
   "source": [
    "## 读取训练集并做基础统计"
   ]
  },
  {
   "cell_type": "code",
   "execution_count": 3,
   "id": "b47d19b5",
   "metadata": {},
   "outputs": [
    {
     "name": "stdout",
     "output_type": "stream",
     "text": [
      "数据集样本数: 4401\n",
      "正负样本分布:\n",
      "label\n",
      "1    2237\n",
      "0    2164\n",
      "Name: count, dtype: int64\n"
     ]
    },
    {
     "data": {
      "application/vnd.microsoft.datawrangler.viewer.v0+json": {
       "columns": [
        {
         "name": "index",
         "rawType": "int64",
         "type": "integer"
        },
        {
         "name": "q1",
         "rawType": "object",
         "type": "string"
        },
        {
         "name": "q2",
         "rawType": "object",
         "type": "string"
        },
        {
         "name": "label",
         "rawType": "int64",
         "type": "integer"
        }
       ],
       "ref": "665fac21-1ff8-4738-b03d-2da3d63612e4",
       "rows": [
        [
         "0",
         "跪求,英雄联盟好玩还是梦三国好玩?坐等呢",
         "亲说下,英雄联盟好玩还是梦三国好玩?十分多谢",
         "1"
        ],
        [
         "1",
         "英雄联盟统治战场一天可以得多少经验",
         "英雄联盟打统治战场会增加隐藏分吗",
         "0"
        ],
        [
         "2",
         "那里有免费的单机游戏下载",
         "哪里有免费的单机游戏下载",
         "1"
        ],
        [
         "3",
         "平安夜的时候送女朋友什么礼物好呢？",
         "今年的平安夜快要到了，送女朋友什么礼物好呢？",
         "1"
        ],
        [
         "4",
         "游戏王游戏在哪下载？",
         "游戏王游戏在哪里下载",
         "1"
        ],
        [
         "5",
         "龙飞凤舞不一般的生肖是什么？",
         "龙飞凤舞是什么生肖？",
         "0"
        ],
        [
         "6",
         "女生不喜欢肌肉男吗？",
         "女生都喜欢肌肉男吗？",
         "0"
        ],
        [
         "7",
         "繁体字赛，宝贝怎么写",
         "偶的宝贝繁体字怎么写啊",
         "0"
        ],
        [
         "8",
         "这手机怎么样，好不好用啊。",
         "充电宝怎么样才算充满",
         "0"
        ],
        [
         "9",
         "魔兽世界燃铁矿哪里多",
         "魔兽世界-魔铁矿石哪里多",
         "0"
        ]
       ],
       "shape": {
        "columns": 3,
        "rows": 10
       }
      },
      "text/html": [
       "<div>\n",
       "<style scoped>\n",
       "    .dataframe tbody tr th:only-of-type {\n",
       "        vertical-align: middle;\n",
       "    }\n",
       "\n",
       "    .dataframe tbody tr th {\n",
       "        vertical-align: top;\n",
       "    }\n",
       "\n",
       "    .dataframe thead th {\n",
       "        text-align: right;\n",
       "    }\n",
       "</style>\n",
       "<table border=\"1\" class=\"dataframe\">\n",
       "  <thead>\n",
       "    <tr style=\"text-align: right;\">\n",
       "      <th></th>\n",
       "      <th>q1</th>\n",
       "      <th>q2</th>\n",
       "      <th>label</th>\n",
       "    </tr>\n",
       "  </thead>\n",
       "  <tbody>\n",
       "    <tr>\n",
       "      <th>0</th>\n",
       "      <td>跪求,英雄联盟好玩还是梦三国好玩?坐等呢</td>\n",
       "      <td>亲说下,英雄联盟好玩还是梦三国好玩?十分多谢</td>\n",
       "      <td>1</td>\n",
       "    </tr>\n",
       "    <tr>\n",
       "      <th>1</th>\n",
       "      <td>英雄联盟统治战场一天可以得多少经验</td>\n",
       "      <td>英雄联盟打统治战场会增加隐藏分吗</td>\n",
       "      <td>0</td>\n",
       "    </tr>\n",
       "    <tr>\n",
       "      <th>2</th>\n",
       "      <td>那里有免费的单机游戏下载</td>\n",
       "      <td>哪里有免费的单机游戏下载</td>\n",
       "      <td>1</td>\n",
       "    </tr>\n",
       "    <tr>\n",
       "      <th>3</th>\n",
       "      <td>平安夜的时候送女朋友什么礼物好呢？</td>\n",
       "      <td>今年的平安夜快要到了，送女朋友什么礼物好呢？</td>\n",
       "      <td>1</td>\n",
       "    </tr>\n",
       "    <tr>\n",
       "      <th>4</th>\n",
       "      <td>游戏王游戏在哪下载？</td>\n",
       "      <td>游戏王游戏在哪里下载</td>\n",
       "      <td>1</td>\n",
       "    </tr>\n",
       "    <tr>\n",
       "      <th>5</th>\n",
       "      <td>龙飞凤舞不一般的生肖是什么？</td>\n",
       "      <td>龙飞凤舞是什么生肖？</td>\n",
       "      <td>0</td>\n",
       "    </tr>\n",
       "    <tr>\n",
       "      <th>6</th>\n",
       "      <td>女生不喜欢肌肉男吗？</td>\n",
       "      <td>女生都喜欢肌肉男吗？</td>\n",
       "      <td>0</td>\n",
       "    </tr>\n",
       "    <tr>\n",
       "      <th>7</th>\n",
       "      <td>繁体字赛，宝贝怎么写</td>\n",
       "      <td>偶的宝贝繁体字怎么写啊</td>\n",
       "      <td>0</td>\n",
       "    </tr>\n",
       "    <tr>\n",
       "      <th>8</th>\n",
       "      <td>这手机怎么样，好不好用啊。</td>\n",
       "      <td>充电宝怎么样才算充满</td>\n",
       "      <td>0</td>\n",
       "    </tr>\n",
       "    <tr>\n",
       "      <th>9</th>\n",
       "      <td>魔兽世界燃铁矿哪里多</td>\n",
       "      <td>魔兽世界-魔铁矿石哪里多</td>\n",
       "      <td>0</td>\n",
       "    </tr>\n",
       "  </tbody>\n",
       "</table>\n",
       "</div>"
      ],
      "text/plain": [
       "                     q1                      q2  label\n",
       "0  跪求,英雄联盟好玩还是梦三国好玩?坐等呢  亲说下,英雄联盟好玩还是梦三国好玩?十分多谢      1\n",
       "1     英雄联盟统治战场一天可以得多少经验        英雄联盟打统治战场会增加隐藏分吗      0\n",
       "2          那里有免费的单机游戏下载            哪里有免费的单机游戏下载      1\n",
       "3     平安夜的时候送女朋友什么礼物好呢？  今年的平安夜快要到了，送女朋友什么礼物好呢？      1\n",
       "4            游戏王游戏在哪下载？              游戏王游戏在哪里下载      1\n",
       "5        龙飞凤舞不一般的生肖是什么？              龙飞凤舞是什么生肖？      0\n",
       "6            女生不喜欢肌肉男吗？              女生都喜欢肌肉男吗？      0\n",
       "7            繁体字赛，宝贝怎么写             偶的宝贝繁体字怎么写啊      0\n",
       "8         这手机怎么样，好不好用啊。              充电宝怎么样才算充满      0\n",
       "9            魔兽世界燃铁矿哪里多            魔兽世界-魔铁矿石哪里多      0"
      ]
     },
     "execution_count": 3,
     "metadata": {},
     "output_type": "execute_result"
    }
   ],
   "source": [
    "import pandas as pd\n",
    "train_df = pd.read_csv('csv/test.csv', sep='\\t', header=None, names=['q1', 'q2', 'label'])\n",
    "print('数据集样本数:', len(train_df))\n",
    "print('正负样本分布:')\n",
    "print(train_df['label'].value_counts())\n",
    "train_df.head(10)"
   ]
  },
  {
   "cell_type": "markdown",
   "id": "a181c88f",
   "metadata": {},
   "source": [
    "## - 相似度分布可视化"
   ]
  },
  {
   "cell_type": "markdown",
   "id": "747d7b28",
   "metadata": {},
   "source": [
    "## 高效批量推理：大幅加速相似度计算\n",
    "将所有问题对批量编码，利用向量化操作一次性计算余弦相似度，大幅提升推理速度，适合大数据量场景。"
   ]
  },
  {
   "cell_type": "code",
   "execution_count": 9,
   "id": "5a741282",
   "metadata": {},
   "outputs": [],
   "source": [
    "## 避免显存溢出：分批计算余弦相似度\n",
    "#一次性计算全部对角线会导致显存溢出。可以分批处理（如每1万对），每批计算后拼接结果，显著降低显存占用。"
   ]
  },
  {
   "cell_type": "code",
   "execution_count": 4,
   "id": "3921f048",
   "metadata": {},
   "outputs": [
    {
     "data": {
      "application/vnd.jupyter.widget-view+json": {
       "model_id": "b0dde4579ca2479b9debced643b4ec3f",
       "version_major": 2,
       "version_minor": 0
      },
      "text/plain": [
       "Batches:   0%|          | 0/35 [00:00<?, ?it/s]"
      ]
     },
     "metadata": {},
     "output_type": "display_data"
    },
    {
     "data": {
      "application/vnd.jupyter.widget-view+json": {
       "model_id": "8a8d9ab4c41f4ec98c7503470f72266a",
       "version_major": 2,
       "version_minor": 0
      },
      "text/plain": [
       "Batches:   0%|          | 0/35 [00:00<?, ?it/s]"
      ]
     },
     "metadata": {},
     "output_type": "display_data"
    },
    {
     "name": "stdout",
     "output_type": "stream",
     "text": [
      "训练集 Accuracy: 0.7885\n",
      "训练集 F1-score: 0.8181\n",
      "训练集 Recall: 0.9361\n",
      "加权最终得分: 0.8358\n"
     ]
    }
   ],
   "source": [
    "# 批量编码所有问题对\n",
    "q1_list = train_df['q1'].tolist()\n",
    "q2_list = train_df['q2'].tolist()\n",
    "\n",
    "# 批量编码（可指定 batch_size，适当调大可加速）\n",
    "q1_emb = model.encode(q1_list, convert_to_tensor=True, batch_size=128, show_progress_bar=True)\n",
    "q2_emb = model.encode(q2_list, convert_to_tensor=True, batch_size=128, show_progress_bar=True)\n",
    "\n",
    "# 分批计算对角线相似度\n",
    "batch_size = 8000\n",
    "sims = []\n",
    "for start in range(0, len(q1_list), batch_size):\n",
    "    end = min(start + batch_size, len(q1_list))\n",
    "    emb1 = q1_emb[start:end]\n",
    "    emb2 = q2_emb[start:end]\n",
    "    sim = util.cos_sim(emb1, emb2).diagonal().cpu().numpy()\n",
    "    sims.append(sim)\n",
    "sims = np.concatenate(sims)\n",
    "\n",
    "# 设定阈值，批量判断\n",
    "threshold = 0.84\n",
    "train_df['pred'] = (sims > threshold).astype(int)\n",
    "\n",
    "# 计算指标\n",
    "accuracy = accuracy_score(train_df['label'], train_df['pred'])\n",
    "f1 = f1_score(train_df['label'], train_df['pred'])\n",
    "recall = recall_score(train_df['label'], train_df['pred'])\n",
    "print(f'训练集 Accuracy: {accuracy:.4f}')\n",
    "print(f'训练集 F1-score: {f1:.4f}')\n",
    "print(f'训练集 Recall: {recall:.4f}')\n",
    "final_score = 0.6 * f1 + 0.2 * accuracy + 0.2 * recall\n",
    "print(f'加权最终得分: {final_score:.4f}')"
   ]
  },
  {
   "cell_type": "markdown",
   "id": "2614be32",
   "metadata": {},
   "source": [
    "# 错误样本分析\n",
    "分析模型预测错误的前10个样本，便于人工检查模型常见误判类型和后续优化方向。"
   ]
  },
  {
   "cell_type": "code",
   "execution_count": null,
   "id": "66a12024",
   "metadata": {},
   "outputs": [],
   "source": [
    "\n",
    "# 如果 'pred' 不存在，提醒用户先运行推理代码\n",
    "if \"pred\" not in train_df.columns:\n",
    "    print(\"请先运行模型推理代码，生成 train_df['pred'] 列！\")\n",
    "else:\n",
    "    # 找出预测错误的样本\n",
    "    wrong = train_df[train_df[\"pred\"] != train_df[\"label\"]]\n",
    "    # 展示前10条错误样本\n",
    "    print(wrong[[\"q1\", \"q2\", \"label\", \"pred\"]].head(10))\n",
    "    # 统计错误类型分布\n",
    "    print(\"错误类型分布：\")\n",
    "    print(wrong[\"label\"].value_counts())\n",
    "    # 统计正例被误判为负例、负例被误判为正例的数量\n",
    "    fp = ((wrong[\"label\"] == 0) & (wrong[\"pred\"] == 1)).sum()\n",
    "    fn = ((wrong[\"label\"] == 1) & (wrong[\"pred\"] == 0)).sum()\n",
    "    print(f\"负例被误判为正例（假阳性）: {fp}\")\n",
    "    print(f\"正例被误判为负例（假阴性）: {fn}\")"
   ]
  },
  {
   "cell_type": "code",
   "execution_count": null,
   "id": "674cfec7",
   "metadata": {},
   "outputs": [],
   "source": [
    "# 筛选负例被误判为正例的样本\n",
    "wrong_neg = wrong[wrong['label'] == 0]\n",
    "\n",
    "# 计算这些样本的文本相似度\n",
    "wrong_neg['similarity'] = wrong_neg.apply(\n",
    "    lambda row: util.cos_sim(\n",
    "        model.encode(row['q1'], convert_to_tensor=True),\n",
    "        model.encode(row['q2'], convert_to_tensor=True)\n",
    "    ).item(), axis=1\n",
    ")\n",
    "\n",
    "# 按相似度降序排序\n",
    "wrong_neg_sorted = wrong_neg.sort_values(by='similarity', ascending=False)\n",
    "\n",
    "# 展示相似度最高的前10个样本\n",
    "print(\"相似度最高的负例被误判为正例样本：\")\n",
    "print(wrong_neg_sorted[[\"q1\", \"q2\", \"label\", \"pred\", \"similarity\"]].head(10))"
   ]
  },
  {
   "cell_type": "code",
   "execution_count": 25,
   "id": "1cbcf219",
   "metadata": {},
   "outputs": [],
   "source": [
    "def extract_svo_ltp4(result):\n",
    "    \"\"\"\n",
    "    从 LTP pipeline 返回结构中提取主谓宾\n",
    "    结构通常为: (words, pos, dep)\n",
    "    \"\"\"\n",
    "    if not isinstance(result, (list, tuple)) or len(result) < 3:\n",
    "        return []  # 防止 result 为空或结构错误\n",
    "\n",
    "    words, pos, dep = result[:3]  # 取前三项\n",
    "    svos = []\n",
    "    for i, (head, rel, dep_idx) in enumerate(dep):\n",
    "        if rel == 'SBV':\n",
    "            verb_idx = head - 1\n",
    "            if 0 <= verb_idx < len(words):\n",
    "                subject = words[i]\n",
    "                verb = words[verb_idx]\n",
    "                # 查找宾语\n",
    "                for j, (h2, r2, d2) in enumerate(dep):\n",
    "                    if r2 == 'VOB' and h2 - 1 == verb_idx:\n",
    "                        obj = words[j]\n",
    "                        svos.append((subject, verb, obj))\n",
    "    return svos"
   ]
  },
  {
   "cell_type": "markdown",
   "id": "90ba9132",
   "metadata": {},
   "source": [
    "## 替换 HanLP 依存句法分析为 LTP，并实现主谓宾结构对比辅助二次筛选\n",
    "本节将使用 LTP 进行依存句法分析，抽取主谓宾三元组，并对比两句主谓宾结构，辅助判断模型误判的负例是否可二次筛选为正例。"
   ]
  },
  {
   "cell_type": "code",
   "execution_count": 27,
   "id": "95e24185",
   "metadata": {},
   "outputs": [
    {
     "name": "stderr",
     "output_type": "stream",
     "text": [
      "Processing Negative Samples: 100%|██████████| 1519/1519 [02:15<00:00, 11.21it/s]"
     ]
    },
    {
     "name": "stdout",
     "output_type": "stream",
     "text": [
      "二次筛选后 Accuracy: 0.7885\n",
      "二次筛选后 F1-score: 0.8181\n",
      "二次筛选后 Recall: 0.9361\n",
      "二次筛选后加权最终得分: 0.8358\n"
     ]
    },
    {
     "name": "stderr",
     "output_type": "stream",
     "text": [
      "\n"
     ]
    }
   ],
   "source": [
    "# 优化主谓宾二次筛选逻辑，使用批量处理\n",
    "from tqdm import tqdm  # 用于显示进度条\n",
    "\n",
    "# 定义主谓宾比重计算函数\n",
    "def calculate_svo_weight(svo1, svo2):\n",
    "    \"\"\"\n",
    "    计算主谓宾比重得分\n",
    "    主语比重: 0.4\n",
    "    谓语比重: 0.4\n",
    "    宾语比重: 0.2\n",
    "    \"\"\"\n",
    "    score = 0\n",
    "    for (sub1, verb1, obj1), (sub2, verb2, obj2) in zip(svo1, svo2):\n",
    "        if sub1 == sub2:\n",
    "            score += 0.4\n",
    "        if verb1 == verb2:\n",
    "            score += 0.4\n",
    "        if obj1 == obj2:\n",
    "            score += 0.2\n",
    "    return score\n",
    "\n",
    "# 使用 LTP 对负例进行主谓宾抽取和筛选（批量处理）\n",
    "filtered_neg = []\n",
    "for idx, row in tqdm(wrong_neg.iterrows(), total=len(wrong_neg), desc=\"Processing Negative Samples\"):\n",
    "    res1 = ltp.pipeline([row['q1']])[0]\n",
    "    res2 = ltp.pipeline([row['q2']])[0]\n",
    "    svo1 = extract_svo_ltp4(res1)\n",
    "    svo2 = extract_svo_ltp4(res2)\n",
    "    weight = calculate_svo_weight(svo1, svo2)\n",
    "    if weight >= 0.4:  # 比重大于等于 0.4 则保留为正例\n",
    "        filtered_neg.append(idx)\n",
    "\n",
    "# 更新预测结果\n",
    "train_df.loc[filtered_neg, 'pred'] = 1\n",
    "\n",
    "# 重新计算指标\n",
    "accuracy = accuracy_score(train_df['label'], train_df['pred'])\n",
    "f1 = f1_score(train_df['label'], train_df['pred'])\n",
    "recall = recall_score(train_df['label'], train_df['pred'])\n",
    "print(f'二次筛选后 Accuracy: {accuracy:.4f}')\n",
    "print(f'二次筛选后 F1-score: {f1:.4f}')\n",
    "print(f'二次筛选后 Recall: {recall:.4f}')\n",
    "final_score = 0.6 * f1 + 0.2 * accuracy + 0.2 * recall\n",
    "print(f'二次筛选后加权最终得分: {final_score:.4f}')"
   ]
  }
 ],
 "metadata": {
  "kernelspec": {
   "display_name": ".venv",
   "language": "python",
   "name": "python3"
  },
  "language_info": {
   "codemirror_mode": {
    "name": "ipython",
    "version": 3
   },
   "file_extension": ".py",
   "mimetype": "text/x-python",
   "name": "python",
   "nbconvert_exporter": "python",
   "pygments_lexer": "ipython3",
   "version": "3.13.2"
  }
 },
 "nbformat": 4,
 "nbformat_minor": 5
}
