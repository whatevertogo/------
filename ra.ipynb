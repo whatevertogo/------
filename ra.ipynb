{
 "cells": [
  {
   "cell_type": "markdown",
   "id": "7a535d7b",
   "metadata": {},
   "source": [
    "# 中文语义相似度判断模型\n",
    "\n",
    "使用sentence-transformers训练中文语义相似度判断模型,判断两个中文句子的语义是否相同。\n",
    "\n",
    "## 主要步骤:\n",
    "1. 加载数据集\n",
    "2. 加载预训练模型\n",
    "3. 模型训练\n",
    "4. 模型评估"
   ]
  },
  {
   "cell_type": "code",
   "execution_count": null,
   "id": "a201680a",
   "metadata": {},
   "outputs": [],
   "source": [
    "# 导入必要的库\n",
    "import pandas as pd\n",
    "import torch\n",
    "from sentence_transformers import SentenceTransformer, losses, InputExample\n",
    "from torch.utils.data import DataLoader\n",
    "from sklearn.metrics import accuracy_score, f1_score, recall_score\n",
    "import numpy as np\n",
    "from tqdm.auto import tqdm\n",
    "\n",
    "# 检查CUDA是否可用\n",
    "device = torch.device('cuda' if torch.cuda.is_available() else 'cpu')\n",
    "print(f\"使用设备: {device}\")"
   ]
  },
  {
   "cell_type": "code",
   "execution_count": null,
   "id": "5247679f",
   "metadata": {},
   "outputs": [],
   "source": [
    "# 加载数据集\n",
    "def load_data(train_path, dev_path, test_path):\n",
    "    train_data = pd.read_csv(train_path, sep='\\t', header=None, names=['q1', 'q2', 'label'])\n",
    "    dev_data = pd.read_csv(dev_path, sep='\\t', header=None, names=['q1', 'q2', 'label'])\n",
    "    test_data = pd.read_csv(test_path, sep='\\t', header=None, names=['q1', 'q2', 'label'])\n",
    "    \n",
    "    print(f\"训练集大小: {len(train_data)}\")\n",
    "    print(f\"验证集大小: {len(dev_data)}\")\n",
    "    print(f\"测试集大小: {len(test_data)}\")\n",
    "    return train_data, dev_data, test_data\n",
    "\n",
    "# 加载数据\n",
    "train_data, dev_data, test_data = load_data(\n",
    "    'csv/train.tsv',\n",
    "    'csv/dev.csv',\n",
    "    'csv/test.csv'\n",
    ")"
   ]
  },
  {
   "cell_type": "code",
   "execution_count": null,
   "id": "c68ae16c",
   "metadata": {},
   "outputs": [],
   "source": [
    "# 加载预训练模型\n",
    "model = SentenceTransformer('shibing624/text2vec-base-chinese')\n",
    "model = model.to(device)\n",
    "\n",
    "# 准备训练数据\n",
    "train_examples = []\n",
    "for _, row in train_data.iterrows():\n",
    "    train_examples.append(InputExample(\n",
    "        texts=[row['q1'], row['q2']],\n",
    "        label=float(row['label'])\n",
    "    ))\n",
    "\n",
    "# 设置训练参数\n",
    "train_dataloader = DataLoader(train_examples, shuffle=True, batch_size=32)\n",
    "train_loss = losses.CosineSimilarityLoss(model)\n",
    "\n",
    "# 训练模型\n",
    "num_epochs = 3\n",
    "warmup_steps = int(len(train_dataloader) * num_epochs * 0.1)\n",
    "\n",
    "print(\"开始训练...\")\n",
    "model.fit(\n",
    "    train_objectives=[(train_dataloader, train_loss)],\n",
    "    epochs=num_epochs,\n",
    "    warmup_steps=warmup_steps,\n",
    "    show_progress_bar=True\n",
    ")\n",
    "\n",
    "print(\"训练完成!\")"
   ]
  },
  {
   "cell_type": "code",
   "execution_count": null,
   "id": "6ecc56be",
   "metadata": {},
   "outputs": [],
   "source": [
    "# 模型评估函数\n",
    "def evaluate_model(model, data, threshold=0.5):\n",
    "    # 获取句子对的嵌入向量\n",
    "    sentences1 = data['q1'].tolist()\n",
    "    sentences2 = data['q2'].tolist()\n",
    "    \n",
    "    # 批量编码\n",
    "    embeddings1 = model.encode(sentences1, convert_to_tensor=True, batch_size=32)\n",
    "    embeddings2 = model.encode(sentences2, convert_to_tensor=True, batch_size=32)\n",
    "    \n",
    "    # 计算余弦相似度\n",
    "    cosine_scores = torch.cosine_similarity(embeddings1, embeddings2)\n",
    "    predictions = (cosine_scores > threshold).cpu().numpy().astype(int)\n",
    "    \n",
    "    # 计算评估指标\n",
    "    accuracy = accuracy_score(data['label'], predictions)\n",
    "    f1 = f1_score(data['label'], predictions)\n",
    "    recall = recall_score(data['label'], predictions)\n",
    "    \n",
    "    return {\n",
    "        'accuracy': accuracy,\n",
    "        'f1': f1,\n",
    "        'recall': recall,\n",
    "        'final_score': 0.6 * f1 + 0.2 * accuracy + 0.2 * recall\n",
    "    }\n",
    "\n",
    "# 在测试集上评估模型\n",
    "print(\"在测试集上评估模型...\")\n",
    "test_metrics = evaluate_model(model, test_data)\n",
    "\n",
    "print(\"\\n测试集评估结果:\")\n",
    "print(f\"Accuracy: {test_metrics['accuracy']:.4f}\")\n",
    "print(f\"F1-score: {test_metrics['f1']:.4f}\")\n",
    "print(f\"Recall: {test_metrics['recall']:.4f}\")\n",
    "print(f\"最终得分: {test_metrics['final_score']:.4f}\")"
   ]
  },
  {
   "cell_type": "code",
   "execution_count": null,
   "id": "078a6426",
   "metadata": {},
   "outputs": [],
   "source": [
    "# 保存模型\n",
    "model_save_path = 'chinese_semantic_model'\n",
    "model.save(model_save_path)\n",
    "print(f\"模型已保存到: {model_save_path}\")"
   ]
  }
 ],
 "metadata": {
  "language_info": {
   "name": "python"
  }
 },
 "nbformat": 4,
 "nbformat_minor": 5
}
